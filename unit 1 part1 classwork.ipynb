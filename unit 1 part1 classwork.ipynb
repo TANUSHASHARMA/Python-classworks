{
 "cells": [
  {
   "cell_type": "code",
   "execution_count": 1,
   "id": "66167535-78d9-4e6f-8701-e982a3588680",
   "metadata": {},
   "outputs": [
    {
     "name": "stdout",
     "output_type": "stream",
     "text": [
      "Hello world\n"
     ]
    }
   ],
   "source": [
    "print(\"Hello world\")\n"
   ]
  },
  {
   "cell_type": "code",
   "execution_count": 3,
   "id": "0af91431-1cce-432b-9168-e3c334ff1d85",
   "metadata": {},
   "outputs": [
    {
     "name": "stdout",
     "output_type": "stream",
     "text": [
      "140708008365560\n",
      "140708008365624\n",
      "2449105744496\n",
      "Helloworld\n",
      "37\n"
     ]
    }
   ],
   "source": [
    "x=35\n",
    "print(id(x))\n",
    "x=x+2\n",
    "print(id(x))\n",
    "y=\"Hello\"\n",
    "y=y+\"world\"\n",
    "print(id(y))\n",
    "print(y)\n",
    "print(x)\n"
   ]
  },
  {
   "cell_type": "code",
   "execution_count": 7,
   "id": "c113f08a-dd15-42a8-bf0f-aa97cab9682b",
   "metadata": {},
   "outputs": [
    {
     "name": "stdout",
     "output_type": "stream",
     "text": [
      "2449111910144\n",
      "2449111910144\n"
     ]
    }
   ],
   "source": [
    "#mutabale objects\n",
    "x=[1,2,3,4,5,6]\n",
    "print(id(x))\n",
    "x.append(7)\n",
    "print(id(x))#outputs remain same after changing the contents\n"
   ]
  },
  {
   "cell_type": "code",
   "execution_count": 10,
   "id": "85331c85-2f39-4110-a623-c4644157420d",
   "metadata": {},
   "outputs": [
    {
     "name": "stdout",
     "output_type": "stream",
     "text": [
      "HII THIS IS TANUSHA\n",
      "Hii this is tanusha\n",
      "Hii this is Sharma\n"
     ]
    }
   ],
   "source": [
    "#capitalizing and replacing the string\n",
    "my_string=\"Hii this is Tanusha\"\n",
    "print(my_string.upper())\n",
    "print(my_string.capitalize())\n",
    "print(my_string.replace(\"Tanusha\",\"Sharma\"))"
   ]
  },
  {
   "cell_type": "code",
   "execution_count": 16,
   "id": "49fb857e-634b-4ef9-92b7-1c29e4ae0d45",
   "metadata": {},
   "outputs": [
    {
     "name": "stdout",
     "output_type": "stream",
     "text": [
      "result is : TanushaSharma\n",
      "The new result is: TanushaTanushaTanushaTanusha\n",
      "True\n",
      "True\n"
     ]
    }
   ],
   "source": [
    "#string operations\n",
    "#concatenation\n",
    "str1= \"Tanusha\" \n",
    "str2= \"Sharma\"\n",
    "result = str1+str2\n",
    "print(\"result is :\",result)\n",
    "newresult= str1 *4\n",
    "print(\"The new result is:\",newresult)\n",
    "print(\"T\" in str1)\n",
    "print(\"v\" not in str2)"
   ]
  },
  {
   "cell_type": "code",
   "execution_count": 19,
   "id": "51458fb1-4371-469b-ac8f-723d328f1134",
   "metadata": {},
   "outputs": [
    {
     "name": "stdout",
     "output_type": "stream",
     "text": [
      "T\n",
      "a\n",
      "Tanusha Sh\n"
     ]
    }
   ],
   "source": [
    "#string operation\n",
    "#sliceoperator[]\n",
    "str_1 = \"Tanusha Sharma\"\n",
    "print(str_1[0])\n",
    "print(str_1[-1])\n",
    "print(str_1[0:10])"
   ]
  },
  {
   "cell_type": "code",
   "execution_count": 20,
   "id": "9c462c0d-515b-4e47-99e6-4cbf134c6adb",
   "metadata": {},
   "outputs": [
    {
     "name": "stdout",
     "output_type": "stream",
     "text": [
      "False\n",
      "True\n",
      "False\n",
      "True\n"
     ]
    }
   ],
   "source": [
    " #comapring operators\n",
    "str1= \"tanusha\"\n",
    "str2= \"sharma\"\n",
    "print(str1==str2)\n",
    "print(str1>str2)\n",
    "print(str1<str2)\n",
    "print(str1!=str2)"
   ]
  },
  {
   "cell_type": "code",
   "execution_count": 21,
   "id": "048756a0-a80e-4f61-b56e-9be65c92ddb2",
   "metadata": {},
   "outputs": [
    {
     "name": "stdout",
     "output_type": "stream",
     "text": [
      "13\n"
     ]
    }
   ],
   "source": [
    "#length opearator\n",
    "str= \"Tanushasharma\"\n",
    "print(len(str))"
   ]
  },
  {
   "cell_type": "code",
   "execution_count": 1,
   "id": "b16ad12c-e3ab-4820-b09f-9e80c0bdbbf5",
   "metadata": {},
   "outputs": [
    {
     "name": "stdout",
     "output_type": "stream",
     "text": [
      "Size of x: 28 bytes\n"
     ]
    }
   ],
   "source": [
    "#finding size of variables\n",
    "import sys \n",
    "x=42\n",
    "size = sys.getsizeof(x)\n",
    "print(f\"Size of x: {size} bytes\")"
   ]
  },
  {
   "cell_type": "code",
   "execution_count": 2,
   "id": "6362f3ea-8026-4e58-8d1d-1c1f863f7b95",
   "metadata": {},
   "outputs": [
    {
     "name": "stdout",
     "output_type": "stream",
     "text": [
      "Memory location of x : 140708008365560\n"
     ]
    }
   ],
   "source": [
    "#finding memory location\n",
    "x=35\n",
    "memory_location = id(x)\n",
    "print(f\"Memory location of x : {memory_location}\")"
   ]
  },
  {
   "cell_type": "code",
   "execution_count": null,
   "id": "5a5171ab-53a7-401b-9635-948fc502fc79",
   "metadata": {},
   "outputs": [],
   "source": []
  }
 ],
 "metadata": {
  "kernelspec": {
   "display_name": "Python 3 (ipykernel)",
   "language": "python",
   "name": "python3"
  },
  "language_info": {
   "codemirror_mode": {
    "name": "ipython",
    "version": 3
   },
   "file_extension": ".py",
   "mimetype": "text/x-python",
   "name": "python",
   "nbconvert_exporter": "python",
   "pygments_lexer": "ipython3",
   "version": "3.12.5"
  }
 },
 "nbformat": 4,
 "nbformat_minor": 5
}
